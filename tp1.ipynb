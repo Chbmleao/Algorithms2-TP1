{
 "cells": [
  {
   "cell_type": "code",
   "execution_count": 594,
   "metadata": {},
   "outputs": [],
   "source": [
    "def leftmost(points):\n",
    "    leftMostIndex = 0\n",
    "    for i in range(1,len(points)):\n",
    "        if points[i][0] < points[leftMostIndex][0]:\n",
    "            leftMostIndex = i\n",
    "        elif points[i][0] == points[leftMostIndex][0]:\n",
    "            if points[i][1] > points[leftMostIndex][1]:\n",
    "                leftMostIndex = i\n",
    "    return leftMostIndex"
   ]
  },
  {
   "cell_type": "code",
   "execution_count": 595,
   "metadata": {},
   "outputs": [],
   "source": [
    "def direction(p1, p2, p3):\n",
    "    return (p2[0] - p1[0]) * (p3[1] - p1[1]) \\\n",
    "        -(p2[1] - p1[1]) * (p3[0] - p1[0])"
   ]
  },
  {
   "cell_type": "code",
   "execution_count": 596,
   "metadata": {},
   "outputs": [],
   "source": [
    "def squaredDistance(point1, point2):\n",
    "    x1, y1 = point1\n",
    "    x2, y2 = point2\n",
    "    dx = x2 - x1\n",
    "    dy = y2 - y1\n",
    "    distance_squared = dx**2 + dy**2\n",
    "    return distance_squared"
   ]
  },
  {
   "cell_type": "code",
   "execution_count": 597,
   "metadata": {},
   "outputs": [],
   "source": [
    "def giftWrapping(points):\n",
    "    # find the leftmost point\n",
    "    leftmostIndex = leftmost(points)\n",
    "    leftmostPoint = points[leftmostIndex]\n",
    "\n",
    "    # selection sort\n",
    "    l = leftmostIndex\n",
    "    hull = []\n",
    "    hull.append(leftmostPoint)\n",
    "    while (True):\n",
    "        q = (l+1) % len(points)\n",
    "        for i in range(len(points)):\n",
    "            if i == l:\n",
    "                continue\n",
    "            # find the greates left turn\n",
    "            # in case of collinearity, consider the farthest point\n",
    "            d = direction(points[l], points[i], points[q])\n",
    "            if d > 0 or (d == 0 and squaredDistance(points[i], points[l]) > squaredDistance(points[q], points[l])):\n",
    "                q = i\n",
    "            \n",
    "        l = q\n",
    "        if l == leftmostIndex:\n",
    "            break\n",
    "        hull.append(points[q])   \n",
    "\n",
    "    return hull"
   ]
  },
  {
   "cell_type": "code",
   "execution_count": 598,
   "metadata": {},
   "outputs": [
    {
     "data": {
      "image/png": "[encoded data removed]",
      "text/plain": [
       "<Figure size 640x480 with 1 Axes>"
      ]
     },
     "metadata": {},
     "output_type": "display_data"
    }
   ],
   "source": [
    "from matplotlib import pyplot as plt #for plotting\n",
    "from random import randint #for creating data points\n",
    "\n",
    "def create_points(ct, min = 0, max = 50):\n",
    "    return [[randint(min, max), randint(min, max)]\\\n",
    "        for _ in range(ct)] \n",
    "\n",
    "def scatter_plot(coords, convex_hull = None):\n",
    "    xs, ys = zip(*coords) #unzip into x and y coordinates\n",
    "    plt.scatter(xs, ys)\n",
    "\n",
    "    if convex_hull:\n",
    "        for i in range(1, len(convex_hull) + 1):\n",
    "            if i == len(convex_hull): i = 0 #wrap\n",
    "            c0 = convex_hull[i-1]\n",
    "            c1 = convex_hull[i]\n",
    "            plt.plot((c0[0], c1[0]), (c0[1], c1[1]), 'r')\n",
    "    plt.show()\n",
    "    \n",
    "points = create_points(20)\n",
    "hull = giftWrapping(points)\n",
    "\n",
    "scatter_plot(points, hull)"
   ]
  }
 ],
 "metadata": {
  "kernelspec": {
   "display_name": "Python 3",
   "language": "python",
   "name": "python3"
  },
  "language_info": {
   "codemirror_mode": {
    "name": "ipython",
    "version": 3
   },
   "file_extension": ".py",
   "mimetype": "text/x-python",
   "name": "python",
   "nbconvert_exporter": "python",
   "pygments_lexer": "ipython3",
   "version": "3.8.10"
  }
 },
 "nbformat": 4,
 "nbformat_minor": 2
}
